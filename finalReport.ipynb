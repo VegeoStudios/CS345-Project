{
 "cells": [
  {
   "cell_type": "code",
   "execution_count": 1,
   "metadata": {},
   "outputs": [],
   "source": [
    "import numpy as np\n",
    "import matplotlib.pyplot as plt\n",
    "import tensorflow as tf\n",
    "import scipy.signal\n",
    "import keras\n",
    "import ipywidgets as widgets\n",
    "\n",
    "from scikeras.wrappers import KerasClassifier\n",
    "\n",
    "from sklearn.model_selection import GridSearchCV, RandomizedSearchCV\n",
    "from sklearn.model_selection import StratifiedKFold\n",
    "from sklearn.model_selection import train_test_split\n",
    "from sklearn.model_selection import KFold\n",
    "from sklearn.model_selection import cross_val_score\n",
    "\n",
    "from PIL import Image"
   ]
  },
  {
   "cell_type": "markdown",
   "metadata": {},
   "source": [
    "# Introduction\n",
    "For this project, we decided to work on an image classification problem using neural networks to solve multi-label classification. Initially, we began by researching different datasets and deciding on a dataset which was generic (not affiliated with any existing IPs) and contained multi-labels.\n",
    "\n",
    "## The Data\n",
    "We chose to work on creating a model to classify low-resolution game sprites. For this, we went with the [Pixel Art dataset by Ebrahim Elgazar](https://www.kaggle.com/datasets/ebrahimelgazar/pixel-art). This provides us with a set of 595 sprites to look at.\n",
    "\n",
    "*For some reason, the original dataset is actually 89,000 images of the same 894 sprites. But, indices from 244 to 543 are downscaled images, so we didn't want to work on those. That leaves use with 595 sprites to work on*"
   ]
  },
  {
   "cell_type": "code",
   "execution_count": 5,
   "metadata": {},
   "outputs": [],
   "source": [
    "data = np.load('./Dataset1/sprites_labels.npy')\n",
    "sprites = np.load('./Dataset1/sprites.npy')\n",
    "\n",
    "selected_labels = data[:894]\n",
    "selected_labels = np.delete(selected_labels, slice(244, 543), axis=0)\n",
    "print(selected_labels.shape)\n",
    "\n",
    "selected_sprites = sprites[:894]\n",
    "selected_sprites = np.delete(selected_sprites, slice(244, 543), axis=0)\n",
    "print(selected_sprites.shape)"
   ]
  },
  {
   "cell_type": "markdown",
   "metadata": {},
   "source": [
    "The labels for said data are as follows:\n",
    "[Character (Front), Monster, Food, Item, Character (Side)]\n",
    "- Characters (0-159)\n",
    "    - [1, 0, 0, 0 ,0] - Front Facing\n",
    "    - [0, 0, 0, 0, 1] - Side Facing\n",
    "- Monsters (160-183)\n",
    "    - [0, 1, 0, 0, 0]\n",
    "- Food (184-243)\n",
    "    - [0, 0, 1, 0, 0]\n",
    "- Downscaled Monsters - RED (244-343) *excluded*\n",
    "    - [0, 1, 0, 0, 0]\n",
    "- Downscaled Monsters - GREEN (344-443) *excluded*\n",
    "    - [0, 1, 0, 0, 0]\n",
    "- Downscaled Monsters - BLUE (444-543) *excluded*\n",
    "    - [0, 1, 0, 0, 0]\n",
    "- Items (544-893)\n",
    "    - [0, 0, 0, 1, 0]\n",
    "\n",
    "Conveniently, the labels are already in one-hot-encoding form."
   ]
  },
  {
   "cell_type": "code",
   "execution_count": 12,
   "metadata": {},
   "outputs": [
    {
     "data": {
      "image/png": "[encoded data removed]",
      "text/plain": [
       "<Figure size 2000x2000 with 5 Axes>"
      ]
     },
     "metadata": {},
     "output_type": "display_data"
    }
   ],
   "source": [
    "fig, ax = plt.subplots(1, 5, figsize=(20, 20))\n",
    "indices = [0, 160, 184, 544, 1]\n",
    "for i in range(5):\n",
    "    index = indices[i]\n",
    "    ax[i].imshow(sprites[index])\n",
    "    ax[i].set_title(f\"{data[index]} i={index}\")"
   ]
  },
  {
   "cell_type": "markdown",
   "metadata": {},
   "source": []
  }
 ],
 "metadata": {
  "kernelspec": {
   "display_name": "Python 3",
   "language": "python",
   "name": "python3"
  },
  "language_info": {
   "codemirror_mode": {
    "name": "ipython",
    "version": 3
   },
   "file_extension": ".py",
   "mimetype": "text/x-python",
   "name": "python",
   "nbconvert_exporter": "python",
   "pygments_lexer": "ipython3",
   "version": "3.12.3"
  }
 },
 "nbformat": 4,
 "nbformat_minor": 2
}
