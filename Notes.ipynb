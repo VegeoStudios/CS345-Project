{
 "cells": [
  {
   "cell_type": "code",
   "execution_count": 1,
   "metadata": {},
   "outputs": [],
   "source": [
    "import ipywidgets as widgets\n",
    "import numpy as np\n",
    "import matplotlib.pyplot as plt\n",
    "\n",
    "from PIL import Image"
   ]
  },
  {
   "cell_type": "markdown",
   "metadata": {},
   "source": [
    "*Note: Sprites data set is 894 sprites duplicated 100 times and mirrored every duplication.*\n",
    "\n"
   ]
  },
  {
   "cell_type": "code",
   "execution_count": 2,
   "metadata": {},
   "outputs": [
    {
     "name": "stdout",
     "output_type": "stream",
     "text": [
      "(89400, 5)\n"
     ]
    }
   ],
   "source": [
    "data = np.load('./archive/sprites_labels.npy')\n",
    "sprites = np.load('./archive/sprites.npy')\n",
    "\n",
    "print(data.shape)"
   ]
  },
  {
   "cell_type": "markdown",
   "metadata": {},
   "source": [
    "Sprite Labels: [Character (Front), Monster, Food, Item, Character (Side)]\n",
    "- Characters (0-159)\n",
    "    - [1, 0, 0, 0 ,0] - Front Facing\n",
    "    - [0, 0, 0, 0, 1] - Side Facing\n",
    "- Monsters (160-183)\n",
    "    - [0, 1, 0, 0, 0]\n",
    "- Food (184-243)\n",
    "    - [0, 0, 1, 0, 0]\n",
    "- Downscaled Monsters - RED (244-343)\n",
    "    - [0, 1, 0, 0, 0]\n",
    "- Downscaled Monsters - GREEN (344-443)\n",
    "    - [0, 1, 0, 0, 0]\n",
    "- Downscaled Monsters - BLUE (444-543)\n",
    "    - [0, 1, 0, 0, 0]\n",
    "- Items (544-893)\n",
    "    - [0, 0, 0, 1, 0]"
   ]
  },
  {
   "cell_type": "code",
   "execution_count": 4,
   "metadata": {},
   "outputs": [
    {
     "data": {
      "image/png": "[encoded data removed]",
      "text/plain": [
       "<Figure size 2000x2000 with 5 Axes>"
      ]
     },
     "metadata": {},
     "output_type": "display_data"
    }
   ],
   "source": [
    "fig, ax = plt.subplots(1, 5, figsize=(20, 20))\n",
    "for i in range(5):\n",
    "    index = i+892\n",
    "    ax[i].imshow(sprites[index])\n",
    "    ax[i].set_title(f\"{data[index]} i={index}\")"
   ]
  },
  {
   "cell_type": "code",
   "execution_count": 5,
   "metadata": {},
   "outputs": [],
   "source": [
    "\"\"\" CODE FOR GENERATING BIG SPRITE SHEET\n",
    "width = 894 * 16\n",
    "height = 100 * 16\n",
    "\n",
    "new_im = Image.new('RGB', (width, height))\n",
    "\n",
    "for x in range(894):\n",
    "    for y in range(100):\n",
    "        index = y * 894 + x\n",
    "        new_im.paste(Image.fromarray(sprites[index]), (x*16, y*16))\n",
    "\n",
    "new_im.save('sprites.png')\n",
    "\"\"\""
   ]
  },
  {
   "cell_type": "markdown",
   "metadata": {},
   "source": [
    "Pixel art editor for classification prediction?"
   ]
  },
  {
   "cell_type": "code",
   "execution_count": 12,
   "metadata": {},
   "outputs": [
    {
     "data": {
      "application/vnd.jupyter.widget-view+json": {
       "model_id": "0fced319549b444cb1433d61934b7fc3",
       "version_major": 2,
       "version_minor": 0
      },
      "text/plain": [
       "Canvas(height=200, width=200)"
      ]
     },
     "execution_count": 12,
     "metadata": {},
     "output_type": "execute_result"
    }
   ],
   "source": [
    "from ipycanvas import Canvas\n",
    "from ipywidgets import Output\n",
    "\n",
    "canvas = Canvas(width=200, height=200)\n",
    "out = Output()\n",
    "\n",
    "@out.capture()\n",
    "def handle_mouse_move(x, y):\n",
    "    pass\n",
    "\n",
    "canvas.on_mouse_move(handle_mouse_move)\n",
    "\n",
    "@out.capture()\n",
    "def handle_mouse_down(x, y):\n",
    "    pass\n",
    "\n",
    "canvas.on_mouse_down(handle_mouse_down)\n",
    "\n",
    "@out.capture()\n",
    "def handle_mouse_up(x, y):\n",
    "    pass\n",
    "\n",
    "canvas.on_mouse_up(handle_mouse_up)"
   ]
  }
 ],
 "metadata": {
  "kernelspec": {
   "display_name": "Python 3",
   "language": "python",
   "name": "python3"
  },
  "language_info": {
   "codemirror_mode": {
    "name": "ipython",
    "version": 3
   },
   "file_extension": ".py",
   "mimetype": "text/x-python",
   "name": "python",
   "nbconvert_exporter": "python",
   "pygments_lexer": "ipython3",
   "version": "3.12.1"
  }
 },
 "nbformat": 4,
 "nbformat_minor": 2
}
